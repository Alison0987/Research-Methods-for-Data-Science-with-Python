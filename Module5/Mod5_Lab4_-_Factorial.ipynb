{
 "cells": [
  {
   "cell_type": "markdown",
   "metadata": {},
   "source": [
    "Module 5, Lab 4 - Factorial Designs\n",
    "===================================\n",
    "\n",
    "In this lab, we will explore the factorial experiment. I analyze the\n",
    "data from the previous lab but using a factorial design. I assume you\n",
    "are familiar with the between subjects lab, conducted previously. In\n",
    "this lab, we consider whether the three logos have different effects for\n",
    "males or females, a question which marketing wants to know prior to\n",
    "pushing the ad to different markets.\n",
    "\n",
    "Before we begin, I will load the packages required to run this notebook:"
   ]
  },
  {
   "cell_type": "code",
   "execution_count": 40,
   "metadata": {},
   "outputs": [],
   "source": [
    "## LOAD PACKAGES \n",
    "import pandas as pd\n",
    "import numpy as np\n",
    "import scipy.stats as ss\n",
    "from statsmodels.stats.multicomp import pairwise_tukeyhsd\n",
    "import seaborn as sns\n",
    "import matplotlib.pyplot as plt\n",
    "\n",
    "%matplotlib inline"
   ]
  },
  {
   "cell_type": "markdown",
   "metadata": {},
   "source": [
    "Next, the dataset is loaded and the sentiment is computed:"
   ]
  },
  {
   "cell_type": "code",
   "execution_count": 26,
   "metadata": {},
   "outputs": [
    {
     "data": {
      "text/html": [
       "<div>\n",
       "<style scoped>\n",
       "    .dataframe tbody tr th:only-of-type {\n",
       "        vertical-align: middle;\n",
       "    }\n",
       "\n",
       "    .dataframe tbody tr th {\n",
       "        vertical-align: top;\n",
       "    }\n",
       "\n",
       "    .dataframe thead th {\n",
       "        text-align: right;\n",
       "    }\n",
       "</style>\n",
       "<table border=\"1\" class=\"dataframe\">\n",
       "  <thead>\n",
       "    <tr style=\"text-align: right;\">\n",
       "      <th></th>\n",
       "      <th>id</th>\n",
       "      <th>friendly</th>\n",
       "      <th>inviting</th>\n",
       "      <th>interesting</th>\n",
       "      <th>positive</th>\n",
       "      <th>pleasant</th>\n",
       "      <th>sex</th>\n",
       "      <th>logo</th>\n",
       "      <th>sentiment</th>\n",
       "    </tr>\n",
       "  </thead>\n",
       "  <tbody>\n",
       "    <tr>\n",
       "      <th>0</th>\n",
       "      <td>3</td>\n",
       "      <td>9</td>\n",
       "      <td>8</td>\n",
       "      <td>9</td>\n",
       "      <td>10</td>\n",
       "      <td>9</td>\n",
       "      <td>f</td>\n",
       "      <td>Logo A</td>\n",
       "      <td>9.0</td>\n",
       "    </tr>\n",
       "    <tr>\n",
       "      <th>1</th>\n",
       "      <td>98</td>\n",
       "      <td>7</td>\n",
       "      <td>6</td>\n",
       "      <td>8</td>\n",
       "      <td>7</td>\n",
       "      <td>7</td>\n",
       "      <td>f</td>\n",
       "      <td>Logo C</td>\n",
       "      <td>7.0</td>\n",
       "    </tr>\n",
       "    <tr>\n",
       "      <th>2</th>\n",
       "      <td>73</td>\n",
       "      <td>5</td>\n",
       "      <td>3</td>\n",
       "      <td>6</td>\n",
       "      <td>6</td>\n",
       "      <td>6</td>\n",
       "      <td>m</td>\n",
       "      <td>Logo C</td>\n",
       "      <td>5.2</td>\n",
       "    </tr>\n",
       "    <tr>\n",
       "      <th>3</th>\n",
       "      <td>89</td>\n",
       "      <td>4</td>\n",
       "      <td>5</td>\n",
       "      <td>2</td>\n",
       "      <td>3</td>\n",
       "      <td>4</td>\n",
       "      <td>f</td>\n",
       "      <td>Logo C</td>\n",
       "      <td>3.6</td>\n",
       "    </tr>\n",
       "    <tr>\n",
       "      <th>4</th>\n",
       "      <td>13</td>\n",
       "      <td>8</td>\n",
       "      <td>7</td>\n",
       "      <td>9</td>\n",
       "      <td>8</td>\n",
       "      <td>6</td>\n",
       "      <td>f</td>\n",
       "      <td>Logo A</td>\n",
       "      <td>7.6</td>\n",
       "    </tr>\n",
       "  </tbody>\n",
       "</table>\n",
       "</div>"
      ],
      "text/plain": [
       "   id  friendly  inviting  interesting  positive  pleasant sex    logo  \\\n",
       "0   3         9         8            9        10         9   f  Logo A   \n",
       "1  98         7         6            8         7         7   f  Logo C   \n",
       "2  73         5         3            6         6         6   m  Logo C   \n",
       "3  89         4         5            2         3         4   f  Logo C   \n",
       "4  13         8         7            9         8         6   f  Logo A   \n",
       "\n",
       "   sentiment  \n",
       "0        9.0  \n",
       "1        7.0  \n",
       "2        5.2  \n",
       "3        3.6  \n",
       "4        7.6  "
      ]
     },
     "execution_count": 26,
     "metadata": {},
     "output_type": "execute_result"
    }
   ],
   "source": [
    "## Load the dataset\n",
    "dat = pd.read_csv(\"datasets/logos.csv\")\n",
    "\n",
    "## Compute sentiment and look at the head of the data frame.\n",
    "dat['sentiment'] = dat[['friendly', 'inviting', 'interesting', 'positive', 'pleasant']].apply(np.mean, axis = 1)\n",
    "dat.head()"
   ]
  },
  {
   "cell_type": "markdown",
   "metadata": {},
   "source": [
    "Finally, we need the specialized Python pyDOE package for designed experiments, which must be installed and imported:"
   ]
  },
  {
   "cell_type": "code",
   "execution_count": 27,
   "metadata": {},
   "outputs": [
    {
     "name": "stdout",
     "output_type": "stream",
     "text": [
      "Requirement already up-to-date: patsy in c:\\users\\stevepc2\\anaconda3\\lib\\site-packages (0.5.0)\n",
      "Requirement not upgraded as not directly required: six in c:\\users\\stevepc2\\anaconda3\\lib\\site-packages (from patsy) (1.11.0)\n",
      "Requirement not upgraded as not directly required: numpy>=1.4 in c:\\users\\stevepc2\\anaconda3\\lib\\site-packages (from patsy) (1.14.5)\n"
     ]
    }
   ],
   "source": [
    "!pip install --upgrade patsy\n",
    "from patsy import EvalEnvironment, ModelDesc"
   ]
  },
  {
   "cell_type": "markdown",
   "metadata": {},
   "source": [
    "Vizualize the Data + Run Descriptives\n",
    "=====================================\n",
    "\n",
    "In a factorial design, we randomly assign a second treatment in addition\n",
    "to the first. For example, we could also make 50% of the logos in color\n",
    "and 50% in grey scale. Thus we would randomly assign people to one of\n",
    "the designs (3 levels: A, B, and C) and one of the colors (2 levels:\n",
    "color, grey scale). For this reason, this is referred to as a 2 x 3\n",
    "factorial design.\n",
    "\n",
    "One need not randomly assign the variable. One can also use a\n",
    "pre-existing grouping variable, such as sex. One caveat is needed,\n",
    "however; if the grouping variable was not randomly assigned to\n",
    "participants (e.g., favorite color), we cannot be sure if any observed\n",
    "effect is due to that variable or something else that might be causing\n",
    "it. For example, if participants who love the color purple tend to\n",
    "prefer Logo B, we don't know if that logo preference is due to the color\n",
    "or something else that might cause that color preference (see the\n",
    "discussion on prior causes in the regression lab).\n",
    "\n",
    "In our case, we will examine a 2 (sex: male, female) x 3 (logo: A, B, C)\n",
    "design. Although it is true that sex was not randomly assigned by the\n",
    "research team to participants, biological sex is randomly assigned at\n",
    "birth and has no known prior causes. Thus, any differences we see\n",
    "between the sexes can be ultimately assumed to result from sex.\n",
    "\n",
    "We can easily visualize our data using the seaborn package. You already performed visualization of sentiment by logo in a previous lab. Now, you can create a visualization by sex. "
   ]
  },
  {
   "cell_type": "code",
   "execution_count": 34,
   "metadata": {},
   "outputs": [
    {
     "data": {
      "text/plain": [
       "<matplotlib.axes._subplots.AxesSubplot at 0x22395aebbe0>"
      ]
     },
     "execution_count": 34,
     "metadata": {},
     "output_type": "execute_result"
    },
    {
     "data": {
      "image/png": "[encoded data removed]",
      "text/plain": [
       "<matplotlib.figure.Figure at 0x2239592be10>"
      ]
     },
     "metadata": {},
     "output_type": "display_data"
    }
   ],
   "source": [
    "ax = plt.figure(figsize=(8,8)).gca() # define axis\n",
    "sns.boxplot(x = 'sex', y = 'sentiment', data = dat, ax = ax)\n",
    "sns.swarmplot(x = 'sex', y = 'sentiment', color = 'black', data = dat, ax = ax, alpha = 0.4)"
   ]
  },
  {
   "cell_type": "markdown",
   "metadata": {},
   "source": [
    "There is not a great deal of difference in sentiment by sex. \n",
    "\n",
    "Now, you will visualize the interaction between sentiment and logo and sex. In this case we use the `hue` arguments to differentiate between male and female:"
   ]
  },
  {
   "cell_type": "code",
   "execution_count": 28,
   "metadata": {},
   "outputs": [
    {
     "data": {
      "text/plain": [
       "<matplotlib.axes._subplots.AxesSubplot at 0x22395a7f320>"
      ]
     },
     "execution_count": 28,
     "metadata": {},
     "output_type": "execute_result"
    },
    {
     "data": {
      "image/png": "[encoded data removed]",
      "text/plain": [
       "<matplotlib.figure.Figure at 0x22395a76d30>"
      ]
     },
     "metadata": {},
     "output_type": "display_data"
    }
   ],
   "source": [
    "ax = plt.figure(figsize=(8,8)).gca() # define axis\n",
    "sns.boxplot(x = 'logo', y = 'sentiment', data = dat, hue = 'sex', ax = ax)\n",
    "sns.swarmplot(x = 'logo', y = 'sentiment', hue = 'sex', data = dat, ax = ax, alpha = 0.4)"
   ]
  },
  {
   "cell_type": "markdown",
   "metadata": {},
   "source": [
    "We do not see any large systematic differences in the overall levels of\n",
    "sentiment for males or females, nor do we see a substantively different\n",
    "pattern of liking across the three logos for males or females. Thus,\n",
    "perhaps sex does not matter much. \n",
    "\n",
    "Recall for `tapply()` accepts four arguments: the first is the variable\n",
    "to analyze, the second is a factor (or list of factors) across which we\n",
    "want to run the analysis, the third is the function we want to use in\n",
    "the analysis, and the rest are arguments to pass along to our function.\n",
    "In this case, we want means of `sentiment` across levels of `logo` and\n",
    "`sex`, with missing values ignored:"
   ]
  },
  {
   "cell_type": "code",
   "execution_count": 18,
   "metadata": {},
   "outputs": [
    {
     "name": "stdout",
     "output_type": "stream",
     "text": [
      "The means of the groups:\n",
      "            sentiment\n",
      "logo   sex           \n",
      "Logo A f     8.808333\n",
      "       m     7.955556\n",
      "Logo B f     8.340000\n",
      "       m     8.616667\n",
      "Logo C f     7.054545\n",
      "       m     6.900000\n",
      "\n",
      "\n",
      "The standard deviations of the groups:\n",
      "            sentiment\n",
      "logo   sex           \n",
      "Logo A f     1.197794\n",
      "       m     1.318248\n",
      "Logo B f     1.471269\n",
      "       m     1.621354\n",
      "Logo C f     1.403644\n",
      "       m     1.237299\n"
     ]
    }
   ],
   "source": [
    "dat_grouped = dat[['sentiment','logo','sex']].groupby(['logo','sex'])\n",
    "print('The means of the groups:')\n",
    "print(dat_grouped.mean())\n",
    "print('\\n')\n",
    "print('The standard deviations of the groups:')\n",
    "print(dat_grouped.std())"
   ]
  },
  {
   "cell_type": "markdown",
   "metadata": {},
   "source": [
    "Next, we can conduct the factorial ANOVA. In general, the ANOVA assesses\n",
    "whether:\n",
    "\n",
    "1.  There are significant differences between the two sexes (similar to\n",
    "    a one-way ANOVA or t-test)\n",
    "2.  There are significant differences between the three logos (similar\n",
    "    to a one-way ANOVA or t-test)\n",
    "3.  The two variables interact\n",
    "\n",
    "I consider these three questions next.\n",
    "\n",
    "Example with the `ez` package:\n",
    "==============================\n",
    "\n",
    "Factorial ANOVA designs can get tricky. The best way to conduct the\n",
    "analysis for real-world data is to use the `ezANOVA()` command from the\n",
    "`ez` package. This is because you can control the \"type\" of the analysis\n",
    "done. This goes beyond the scope of this tutorial, but most experimental\n",
    "researchers prefer to us \"type 3\" analyses for ANOVA. Note that the\n",
    "`aov()` command we used in the previous lab only works for perfectly\n",
    "balanced factorial designs (equal numbers of people in every permutation\n",
    "of the experiment, no missing data).\n",
    "\n",
    "To use this command, you run the `ezANOVA()` command. We must specify\n",
    "several arguments, including the standard `data=` argument, the `type=3`\n",
    "argument, and a few others.\n",
    "\n",
    "Second, we must list our variables. This is done by setting them inside\n",
    "`.()`. First, we have a variable called `wid=.()` that tracks the ID of\n",
    "each participant. If you don't have an id variable, we can easily give\n",
    "each participant a unique identifier with `1:nrow(dat)`, which creates a\n",
    "unique number for each participant. Next, we list the outcome variable\n",
    "as `dv`, in this case `dv=.(sentiment)`. Finally, we list our\n",
    "between-subjects variables using `between=.(sex, logo)`."
   ]
  },
  {
   "cell_type": "code",
   "execution_count": 38,
   "metadata": {},
   "outputs": [
    {
     "name": "stdout",
     "output_type": "stream",
     "text": [
      "F-Satatistic = 6.026612690740005\n",
      "p_value = 7.102744092104675e-05\n"
     ]
    }
   ],
   "source": [
    "A_m = dat.loc[(dat.logo == 'Logo A') & (dat.sex == 'm'), 'sentiment']\n",
    "A_f = dat.loc[(dat.logo == 'Logo A') & (dat.sex == 'f'), 'sentiment']\n",
    "B_m = dat.loc[(dat.logo == 'Logo B') & (dat.sex == 'm'), 'sentiment']\n",
    "B_f = dat.loc[(dat.logo == 'Logo B') & (dat.sex == 'f'), 'sentiment']\n",
    "C_m = dat.loc[(dat.logo == 'Logo C') & (dat.sex == 'm'), 'sentiment']\n",
    "C_f = dat.loc[(dat.logo == 'Logo C') & (dat.sex == 'f'), 'sentiment']\n",
    "\n",
    "f_statistic, p_value = ss.f_oneway(A_m, A_f, B_m,  B_f, C_m, C_f)\n",
    "print('F-Satatistic = ' + str(f_statistic))\n",
    "print('p_value = ' + str(p_value))"
   ]
  },
  {
   "cell_type": "code",
   "execution_count": 60,
   "metadata": {},
   "outputs": [
    {
     "data": {
      "text/html": [
       "<div>\n",
       "<style scoped>\n",
       "    .dataframe tbody tr th:only-of-type {\n",
       "        vertical-align: middle;\n",
       "    }\n",
       "\n",
       "    .dataframe tbody tr th {\n",
       "        vertical-align: top;\n",
       "    }\n",
       "\n",
       "    .dataframe thead th {\n",
       "        text-align: right;\n",
       "    }\n",
       "</style>\n",
       "<table border=\"1\" class=\"dataframe\">\n",
       "  <thead>\n",
       "    <tr style=\"text-align: right;\">\n",
       "      <th></th>\n",
       "      <th>id</th>\n",
       "      <th>friendly</th>\n",
       "      <th>inviting</th>\n",
       "      <th>interesting</th>\n",
       "      <th>positive</th>\n",
       "      <th>pleasant</th>\n",
       "      <th>sex</th>\n",
       "      <th>logo</th>\n",
       "      <th>sentiment</th>\n",
       "    </tr>\n",
       "  </thead>\n",
       "  <tbody>\n",
       "    <tr>\n",
       "      <th>0</th>\n",
       "      <td>3</td>\n",
       "      <td>9</td>\n",
       "      <td>8</td>\n",
       "      <td>9</td>\n",
       "      <td>10</td>\n",
       "      <td>9</td>\n",
       "      <td>f</td>\n",
       "      <td>Logo A</td>\n",
       "      <td>9.0</td>\n",
       "    </tr>\n",
       "    <tr>\n",
       "      <th>1</th>\n",
       "      <td>98</td>\n",
       "      <td>7</td>\n",
       "      <td>6</td>\n",
       "      <td>8</td>\n",
       "      <td>7</td>\n",
       "      <td>7</td>\n",
       "      <td>f</td>\n",
       "      <td>Logo C</td>\n",
       "      <td>7.0</td>\n",
       "    </tr>\n",
       "    <tr>\n",
       "      <th>2</th>\n",
       "      <td>73</td>\n",
       "      <td>5</td>\n",
       "      <td>3</td>\n",
       "      <td>6</td>\n",
       "      <td>6</td>\n",
       "      <td>6</td>\n",
       "      <td>m</td>\n",
       "      <td>Logo C</td>\n",
       "      <td>5.2</td>\n",
       "    </tr>\n",
       "    <tr>\n",
       "      <th>3</th>\n",
       "      <td>89</td>\n",
       "      <td>4</td>\n",
       "      <td>5</td>\n",
       "      <td>2</td>\n",
       "      <td>3</td>\n",
       "      <td>4</td>\n",
       "      <td>f</td>\n",
       "      <td>Logo C</td>\n",
       "      <td>3.6</td>\n",
       "    </tr>\n",
       "    <tr>\n",
       "      <th>4</th>\n",
       "      <td>13</td>\n",
       "      <td>8</td>\n",
       "      <td>7</td>\n",
       "      <td>9</td>\n",
       "      <td>8</td>\n",
       "      <td>6</td>\n",
       "      <td>f</td>\n",
       "      <td>Logo A</td>\n",
       "      <td>7.6</td>\n",
       "    </tr>\n",
       "  </tbody>\n",
       "</table>\n",
       "</div>"
      ],
      "text/plain": [
       "   id  friendly  inviting  interesting  positive  pleasant sex    logo  \\\n",
       "0   3         9         8            9        10         9   f  Logo A   \n",
       "1  98         7         6            8         7         7   f  Logo C   \n",
       "2  73         5         3            6         6         6   m  Logo C   \n",
       "3  89         4         5            2         3         4   f  Logo C   \n",
       "4  13         8         7            9         8         6   f  Logo A   \n",
       "\n",
       "   sentiment  \n",
       "0        9.0  \n",
       "1        7.0  \n",
       "2        5.2  \n",
       "3        3.6  \n",
       "4        7.6  "
      ]
     },
     "execution_count": 60,
     "metadata": {},
     "output_type": "execute_result"
    }
   ],
   "source": [
    "dat.head()"
   ]
  },
  {
   "cell_type": "code",
   "execution_count": 68,
   "metadata": {},
   "outputs": [
    {
     "name": "stdout",
     "output_type": "stream",
     "text": [
      "   id  friendly  inviting  interesting  positive  pleasant sex    logo  \\\n",
      "0   3         9         8            9        10         9   f  Logo A   \n",
      "1  98         7         6            8         7         7   f  Logo C   \n",
      "2  73         5         3            6         6         6   m  Logo C   \n",
      "3  89         4         5            2         3         4   f  Logo C   \n",
      "4  13         8         7            9         8         6   f  Logo A   \n",
      "5  19         8         7            7         9         7   m  Logo A   \n",
      "6  42         9         8           10         8         8   f  Logo B   \n",
      "7  21         9         9            9         9         9   f  Logo A   \n",
      "8  86         5         5            4         6         5   f  Logo C   \n",
      "9  38        10         9           10        10        10   f  Logo B   \n",
      "\n",
      "   sentiment  logo_sex  \n",
      "0        9.0  Logo A_f  \n",
      "1        7.0  Logo C_f  \n",
      "2        5.2  Logo C_m  \n",
      "3        3.6  Logo C_f  \n",
      "4        7.6  Logo A_f  \n",
      "5        7.6  Logo A_m  \n",
      "6        8.6  Logo B_f  \n",
      "7        9.0  Logo A_f  \n",
      "8        5.0  Logo C_f  \n",
      "9        9.8  Logo B_f  \n"
     ]
    },
    {
     "ename": "TypeError",
     "evalue": "'<' not supported between instances of 'float' and 'str'",
     "output_type": "error",
     "traceback": [
      "\u001b[1;31m---------------------------------------------------------------------------\u001b[0m",
      "\u001b[1;31mTypeError\u001b[0m                                 Traceback (most recent call last)",
      "\u001b[1;32m<ipython-input-68-72c844f5f782>\u001b[0m in \u001b[0;36m<module>\u001b[1;34m()\u001b[0m\n\u001b[0;32m      3\u001b[0m \u001b[1;33m\u001b[0m\u001b[0m\n\u001b[0;32m      4\u001b[0m \u001b[1;31m#\u001b[0m\u001b[1;33m\u001b[0m\u001b[1;33m\u001b[0m\u001b[0m\n\u001b[1;32m----> 5\u001b[1;33m \u001b[0mTukey_HSD\u001b[0m \u001b[1;33m=\u001b[0m \u001b[0mpairwise_tukeyhsd\u001b[0m\u001b[1;33m(\u001b[0m\u001b[0mdat\u001b[0m\u001b[1;33m.\u001b[0m\u001b[0msentiment\u001b[0m\u001b[1;33m,\u001b[0m \u001b[0mdat\u001b[0m\u001b[1;33m.\u001b[0m\u001b[0mlogo\u001b[0m\u001b[1;33m)\u001b[0m\u001b[1;33m\u001b[0m\u001b[0m\n\u001b[0m\u001b[0;32m      6\u001b[0m \u001b[1;31m#print(Tukey_HSD)\u001b[0m\u001b[1;33m\u001b[0m\u001b[1;33m\u001b[0m\u001b[0m\n\u001b[0;32m      7\u001b[0m \u001b[1;31m#Tukey_HSD.plot_simultaneous()\u001b[0m\u001b[1;33m\u001b[0m\u001b[1;33m\u001b[0m\u001b[0m\n",
      "\u001b[1;32m~\\Anaconda3\\lib\\site-packages\\statsmodels\\stats\\multicomp.py\u001b[0m in \u001b[0;36mpairwise_tukeyhsd\u001b[1;34m(endog, groups, alpha)\u001b[0m\n\u001b[0;32m     36\u001b[0m     '''\n\u001b[0;32m     37\u001b[0m \u001b[1;33m\u001b[0m\u001b[0m\n\u001b[1;32m---> 38\u001b[1;33m     \u001b[1;32mreturn\u001b[0m \u001b[0mMultiComparison\u001b[0m\u001b[1;33m(\u001b[0m\u001b[0mendog\u001b[0m\u001b[1;33m,\u001b[0m \u001b[0mgroups\u001b[0m\u001b[1;33m)\u001b[0m\u001b[1;33m.\u001b[0m\u001b[0mtukeyhsd\u001b[0m\u001b[1;33m(\u001b[0m\u001b[0malpha\u001b[0m\u001b[1;33m=\u001b[0m\u001b[0malpha\u001b[0m\u001b[1;33m)\u001b[0m\u001b[1;33m\u001b[0m\u001b[0m\n\u001b[0m",
      "\u001b[1;32m~\\Anaconda3\\lib\\site-packages\\statsmodels\\sandbox\\stats\\multicomp.py\u001b[0m in \u001b[0;36m__init__\u001b[1;34m(self, data, groups, group_order)\u001b[0m\n\u001b[0;32m    794\u001b[0m         \u001b[1;32mif\u001b[0m \u001b[0mgroup_order\u001b[0m \u001b[1;32mis\u001b[0m \u001b[1;32mNone\u001b[0m\u001b[1;33m:\u001b[0m\u001b[1;33m\u001b[0m\u001b[0m\n\u001b[0;32m    795\u001b[0m             self.groupsunique, self.groupintlab = np.unique(groups,\n\u001b[1;32m--> 796\u001b[1;33m                                                             return_inverse=True)\n\u001b[0m\u001b[0;32m    797\u001b[0m         \u001b[1;32melse\u001b[0m\u001b[1;33m:\u001b[0m\u001b[1;33m\u001b[0m\u001b[0m\n\u001b[0;32m    798\u001b[0m             \u001b[1;31m#check if group_order has any names not in groups\u001b[0m\u001b[1;33m\u001b[0m\u001b[1;33m\u001b[0m\u001b[0m\n",
      "\u001b[1;32m~\\Anaconda3\\lib\\site-packages\\numpy\\lib\\arraysetops.py\u001b[0m in \u001b[0;36munique\u001b[1;34m(ar, return_index, return_inverse, return_counts, axis)\u001b[0m\n\u001b[0;32m    208\u001b[0m \u001b[1;33m\u001b[0m\u001b[0m\n\u001b[0;32m    209\u001b[0m     \u001b[0mReconstruct\u001b[0m \u001b[0mthe\u001b[0m \u001b[0minput\u001b[0m \u001b[0marray\u001b[0m \u001b[1;32mfrom\u001b[0m \u001b[0mthe\u001b[0m \u001b[0munique\u001b[0m \u001b[0mvalues\u001b[0m\u001b[1;33m:\u001b[0m\u001b[1;33m\u001b[0m\u001b[0m\n\u001b[1;32m--> 210\u001b[1;33m \u001b[1;33m\u001b[0m\u001b[0m\n\u001b[0m\u001b[0;32m    211\u001b[0m     \u001b[1;33m>>\u001b[0m\u001b[1;33m>\u001b[0m \u001b[0ma\u001b[0m \u001b[1;33m=\u001b[0m \u001b[0mnp\u001b[0m\u001b[1;33m.\u001b[0m\u001b[0marray\u001b[0m\u001b[1;33m(\u001b[0m\u001b[1;33m[\u001b[0m\u001b[1;36m1\u001b[0m\u001b[1;33m,\u001b[0m \u001b[1;36m2\u001b[0m\u001b[1;33m,\u001b[0m \u001b[1;36m6\u001b[0m\u001b[1;33m,\u001b[0m \u001b[1;36m4\u001b[0m\u001b[1;33m,\u001b[0m \u001b[1;36m2\u001b[0m\u001b[1;33m,\u001b[0m \u001b[1;36m3\u001b[0m\u001b[1;33m,\u001b[0m \u001b[1;36m2\u001b[0m\u001b[1;33m]\u001b[0m\u001b[1;33m)\u001b[0m\u001b[1;33m\u001b[0m\u001b[0m\n\u001b[0;32m    212\u001b[0m     \u001b[1;33m>>\u001b[0m\u001b[1;33m>\u001b[0m \u001b[0mu\u001b[0m\u001b[1;33m,\u001b[0m \u001b[0mindices\u001b[0m \u001b[1;33m=\u001b[0m \u001b[0mnp\u001b[0m\u001b[1;33m.\u001b[0m\u001b[0munique\u001b[0m\u001b[1;33m(\u001b[0m\u001b[0ma\u001b[0m\u001b[1;33m,\u001b[0m \u001b[0mreturn_inverse\u001b[0m\u001b[1;33m=\u001b[0m\u001b[1;32mTrue\u001b[0m\u001b[1;33m)\u001b[0m\u001b[1;33m\u001b[0m\u001b[0m\n",
      "\u001b[1;32m~\\Anaconda3\\lib\\site-packages\\numpy\\lib\\arraysetops.py\u001b[0m in \u001b[0;36m_unique1d\u001b[1;34m(ar, return_index, return_inverse, return_counts)\u001b[0m\n\u001b[0;32m    272\u001b[0m                 \u001b[0mret\u001b[0m \u001b[1;33m+=\u001b[0m \u001b[1;33m(\u001b[0m\u001b[0mnp\u001b[0m\u001b[1;33m.\u001b[0m\u001b[0mempty\u001b[0m\u001b[1;33m(\u001b[0m\u001b[1;36m0\u001b[0m\u001b[1;33m,\u001b[0m \u001b[0mnp\u001b[0m\u001b[1;33m.\u001b[0m\u001b[0mintp\u001b[0m\u001b[1;33m)\u001b[0m\u001b[1;33m,\u001b[0m\u001b[1;33m)\u001b[0m\u001b[1;33m\u001b[0m\u001b[0m\n\u001b[0;32m    273\u001b[0m             \u001b[1;32mif\u001b[0m \u001b[0mreturn_inverse\u001b[0m\u001b[1;33m:\u001b[0m\u001b[1;33m\u001b[0m\u001b[0m\n\u001b[1;32m--> 274\u001b[1;33m                 \u001b[0mret\u001b[0m \u001b[1;33m+=\u001b[0m \u001b[1;33m(\u001b[0m\u001b[0mnp\u001b[0m\u001b[1;33m.\u001b[0m\u001b[0mempty\u001b[0m\u001b[1;33m(\u001b[0m\u001b[1;36m0\u001b[0m\u001b[1;33m,\u001b[0m \u001b[0mnp\u001b[0m\u001b[1;33m.\u001b[0m\u001b[0mintp\u001b[0m\u001b[1;33m)\u001b[0m\u001b[1;33m,\u001b[0m\u001b[1;33m)\u001b[0m\u001b[1;33m\u001b[0m\u001b[0m\n\u001b[0m\u001b[0;32m    275\u001b[0m             \u001b[1;32mif\u001b[0m \u001b[0mreturn_counts\u001b[0m\u001b[1;33m:\u001b[0m\u001b[1;33m\u001b[0m\u001b[0m\n\u001b[0;32m    276\u001b[0m                 \u001b[0mret\u001b[0m \u001b[1;33m+=\u001b[0m \u001b[1;33m(\u001b[0m\u001b[0mnp\u001b[0m\u001b[1;33m.\u001b[0m\u001b[0mempty\u001b[0m\u001b[1;33m(\u001b[0m\u001b[1;36m0\u001b[0m\u001b[1;33m,\u001b[0m \u001b[0mnp\u001b[0m\u001b[1;33m.\u001b[0m\u001b[0mintp\u001b[0m\u001b[1;33m)\u001b[0m\u001b[1;33m,\u001b[0m\u001b[1;33m)\u001b[0m\u001b[1;33m\u001b[0m\u001b[0m\n",
      "\u001b[1;31mTypeError\u001b[0m: '<' not supported between instances of 'float' and 'str'"
     ]
    }
   ],
   "source": [
    "dat['logo_sex'] = dat.logo + '_' + dat.sex\n",
    "print(dat.head(10))\n",
    "\n",
    "#\n",
    "Tukey_HSD = pairwise_tukeyhsd(dat.sentiment, dat.logo)\n",
    "#print(Tukey_HSD)\n",
    "#Tukey_HSD.plot_simultaneous()"
   ]
  },
  {
   "cell_type": "code",
   "execution_count": 12,
   "metadata": {},
   "outputs": [
    {
     "name": "stderr",
     "output_type": "stream",
     "text": [
      "Warning message:\n",
      "\"Converting \"idvar\" to factor for ANOVA.\"Warning message:\n",
      "\"You have removed one or more levels from variable \"logo\". Refactoring for ANOVA.\"Warning message:\n",
      "\"Data is unbalanced (unequal N per group). Make sure you specified a well-considered value for the type argument to ezANOVA().\"Coefficient covariances computed by hccm()\n"
     ]
    },
    {
     "data": {
      "text/html": [
       "<dl>\n",
       "\t<dt>$ANOVA</dt>\n",
       "\t\t<dd><table>\n",
       "<thead><tr><th></th><th scope=col>Effect</th><th scope=col>DFn</th><th scope=col>DFd</th><th scope=col>F</th><th scope=col>p</th><th scope=col>p&lt;.05</th><th scope=col>ges</th></tr></thead>\n",
       "<tbody>\n",
       "\t<tr><th scope=row>2</th><td>sex         </td><td>1           </td><td>93          </td><td> 0.6831763  </td><td>4.106107e-01</td><td>            </td><td>0.007292412 </td></tr>\n",
       "\t<tr><th scope=row>3</th><td>logo        </td><td>2           </td><td>93          </td><td>11.2931682  </td><td>4.067288e-05</td><td>*           </td><td>0.195406629 </td></tr>\n",
       "\t<tr><th scope=row>4</th><td>sex:logo    </td><td>2           </td><td>93          </td><td> 1.1956369  </td><td>3.071178e-01</td><td>            </td><td>0.025068057 </td></tr>\n",
       "</tbody>\n",
       "</table>\n",
       "</dd>\n",
       "\t<dt>$`Levene's Test for Homogeneity of Variance`</dt>\n",
       "\t\t<dd><table>\n",
       "<thead><tr><th scope=col>DFn</th><th scope=col>DFd</th><th scope=col>SSn</th><th scope=col>SSd</th><th scope=col>F</th><th scope=col>p</th><th scope=col>p&lt;.05</th></tr></thead>\n",
       "<tbody>\n",
       "\t<tr><td>5        </td><td>93       </td><td>1.283869 </td><td>80.80522 </td><td>0.2955249</td><td>0.9142809</td><td>         </td></tr>\n",
       "</tbody>\n",
       "</table>\n",
       "</dd>\n",
       "</dl>\n"
      ],
      "text/latex": [
       "\\begin{description}\n",
       "\\item[\\$ANOVA] \\begin{tabular}{r|lllllll}\n",
       "  & Effect & DFn & DFd & F & p & p<.05 & ges\\\\\n",
       "\\hline\n",
       "\t2 & sex          & 1            & 93           &  0.6831763   & 4.106107e-01 &              & 0.007292412 \\\\\n",
       "\t3 & logo         & 2            & 93           & 11.2931682   & 4.067288e-05 & *            & 0.195406629 \\\\\n",
       "\t4 & sex:logo     & 2            & 93           &  1.1956369   & 3.071178e-01 &              & 0.025068057 \\\\\n",
       "\\end{tabular}\n",
       "\n",
       "\\item[\\$`Levene's Test for Homogeneity of Variance`] \\begin{tabular}{r|lllllll}\n",
       " DFn & DFd & SSn & SSd & F & p & p<.05\\\\\n",
       "\\hline\n",
       "\t 5         & 93        & 1.283869  & 80.80522  & 0.2955249 & 0.9142809 &          \\\\\n",
       "\\end{tabular}\n",
       "\n",
       "\\end{description}\n"
      ],
      "text/markdown": [
       "$ANOVA\n",
       ":   \n",
       "| <!--/--> | Effect | DFn | DFd | F | p | p<.05 | ges | \n",
       "|---|---|---|\n",
       "| 2 | sex          | 1            | 93           |  0.6831763   | 4.106107e-01 |              | 0.007292412  | \n",
       "| 3 | logo         | 2            | 93           | 11.2931682   | 4.067288e-05 | *            | 0.195406629  | \n",
       "| 4 | sex:logo     | 2            | 93           |  1.1956369   | 3.071178e-01 |              | 0.025068057  | \n",
       "\n",
       "\n",
       "\n",
       "$`Levene's Test for Homogeneity of Variance`\n",
       ":   \n",
       "DFn | DFd | SSn | SSd | F | p | p<.05 | \n",
       "|---|\n",
       "| 5         | 93        | 1.283869  | 80.80522  | 0.2955249 | 0.9142809 |           | \n",
       "\n",
       "\n",
       "\n",
       "\n",
       "\n"
      ],
      "text/plain": [
       "$ANOVA\n",
       "    Effect DFn DFd          F            p p<.05         ges\n",
       "2      sex   1  93  0.6831763 4.106107e-01       0.007292412\n",
       "3     logo   2  93 11.2931682 4.067288e-05     * 0.195406629\n",
       "4 sex:logo   2  93  1.1956369 3.071178e-01       0.025068057\n",
       "\n",
       "$`Levene's Test for Homogeneity of Variance`\n",
       "  DFn DFd      SSn      SSd         F         p p<.05\n",
       "1   5  93 1.283869 80.80522 0.2955249 0.9142809      \n"
      ]
     },
     "metadata": {},
     "output_type": "display_data"
    }
   ],
   "source": [
    "#generate id variable for each subject\n",
    "dat$idvar <- 1:nrow(dat)\n",
    "\n",
    "ezANOVA(data=dat, \n",
    "        wid=.(idvar), \n",
    "        dv=.(sentiment), \n",
    "        between=.(sex, logo),\n",
    "        type=3)\n",
    "\n",
    "## Warning: Converting \"idvar\" to factor for ANOVA.\n",
    "\n",
    "## Warning: You have removed one or more levels from variable \"logo\".\n",
    "## Refactoring for ANOVA.\n",
    "\n",
    "## Warning: Data is unbalanced (unequal N per group). Make sure you specified\n",
    "## a well-considered value for the type argument to ezANOVA().\n",
    "\n",
    "## $ANOVA\n",
    "##     Effect DFn DFd          F            p p<.05         ges\n",
    "## 2      sex   1  93  0.6831763 4.106107e-01       0.007292412\n",
    "## 3     logo   2  93 11.2931682 4.067288e-05     * 0.195406629\n",
    "## 4 sex:logo   2  93  1.1956369 3.071178e-01       0.025068057\n",
    "## \n",
    "## $`Levene's Test for Homogeneity of Variance`\n",
    "##   DFn DFd      SSn      SSd         F         p p<.05\n",
    "## 1   5  93 1.283869 80.80522 0.2955249 0.9142809"
   ]
  },
  {
   "cell_type": "markdown",
   "metadata": {},
   "source": [
    "This produces a lot of output, but generally speaking, it produces the\n",
    "same results you would expect from the `aov()` output. There are three\n",
    "rows, similar to a regression output. One row, for `sex` is not\n",
    "significant. One row, for `logo` is significant. A third row, for\n",
    "`sex:logo` is not significant.\n",
    "\n",
    "This can be interpreted as follows:\n",
    "\n",
    "1.  There is not a significant sex difference overall\n",
    "2.  There are significant differences between the logos\n",
    "3.  There is not a significant \"interaction\" between sex and logo.\n",
    "\n",
    "Interactions can be understand as \"one variable influences the effect of\n",
    "another.\" So, the sex x logo interaction is asking: \"is there a\n",
    "different pattern of differences between the logos for males than for\n",
    "females?\" This is not the same as asking whether males or females have\n",
    "different levels of sentiment. Instead, we are asking whether the effect\n",
    "of `logo` is different at different levels of `sex`.\n",
    "\n",
    "You can also reverse this. This is the same as asking whether the effect\n",
    "of `sex` is different across the three `logos`. An interaction is\n",
    "essentially one variable influencing the effectiveness of another.\n",
    "\n",
    "It's worth remembering that a non-significant effect does *not* mean\n",
    "that there is zero effect. We can easily see the 95% CIs for our\n",
    "\"non-significant\" effects with Tukey's HSD test (below).\n",
    "\n",
    "It turns out you cannot perform Tukey's HST test on an `ezANOVA()`\n",
    "object; however, you can tell `ezANOVA()` to save an `aov` object for\n",
    "use in Tukey's and other tests. To do this, include the\n",
    "`return_aov=TRUE` argument. This will save in our output an `aov` object\n",
    "that we can feed into Tukey's test and other post-hoc comparison tests."
   ]
  },
  {
   "cell_type": "code",
   "execution_count": 13,
   "metadata": {},
   "outputs": [
    {
     "name": "stderr",
     "output_type": "stream",
     "text": [
      "Warning message:\n",
      "\"Converting \"idvar\" to factor for ANOVA.\"Warning message:\n",
      "\"You have removed one or more levels from variable \"logo\". Refactoring for ANOVA.\"Warning message:\n",
      "\"Data is unbalanced (unequal N per group). Make sure you specified a well-considered value for the type argument to ezANOVA().\"Coefficient covariances computed by hccm()\n"
     ]
    }
   ],
   "source": [
    "mod <- ezANOVA(data=dat, \n",
    "        wid=.(idvar), \n",
    "        dv=.(sentiment), \n",
    "        between=.(sex, logo),\n",
    "        type=3,\n",
    "        return_aov=TRUE)\n",
    "\n",
    "## Warning: Converting \"idvar\" to factor for ANOVA.\n",
    "\n",
    "## Warning: You have removed one or more levels from variable \"logo\".\n",
    "## Refactoring for ANOVA.\n",
    "\n",
    "## Warning: Data is unbalanced (unequal N per group). Make sure you specified\n",
    "## a well-considered value for the type argument to ezANOVA()."
   ]
  },
  {
   "cell_type": "markdown",
   "metadata": {},
   "source": [
    "From here, we can access the `aov` object with `mod$aov`. This can be\n",
    "thrown into Tukey's test:"
   ]
  },
  {
   "cell_type": "code",
   "execution_count": 14,
   "metadata": {},
   "outputs": [
    {
     "data": {
      "text/plain": [
       "Call:\n",
       "   aov(formula = formula(aov_formula), data = data)\n",
       "\n",
       "Terms:\n",
       "                      sex      logo  sex:logo Residuals\n",
       "Sum of Squares    1.60020  50.64975   4.50382 175.15977\n",
       "Deg. of Freedom         1         2         2        93\n",
       "\n",
       "Residual standard error: 1.372384\n",
       "Estimated effects may be unbalanced\n",
       "1 observation deleted due to missingness"
      ]
     },
     "metadata": {},
     "output_type": "display_data"
    },
    {
     "data": {
      "text/plain": [
       "  Tukey multiple comparisons of means\n",
       "    95% family-wise confidence level\n",
       "\n",
       "Fit: aov(formula = formula(aov_formula), data = data)\n",
       "\n",
       "$sex\n",
       "         diff        lwr       upr     p adj\n",
       "m-f -0.269697 -0.8507293 0.3113353 0.3590456\n",
       "\n",
       "$logo\n",
       "                    diff        lwr        upr     p adj\n",
       "Logo B-Logo A -0.1044249 -0.9154011  0.7065513 0.9495008\n",
       "Logo C-Logo A -1.5541241 -2.3528990 -0.7553493 0.0000345\n",
       "Logo C-Logo B -1.4496992 -2.2547827 -0.6446157 0.0001290\n",
       "\n",
       "$`sex:logo`\n",
       "                        diff       lwr         upr     p adj\n",
       "m:Logo A-f:Logo A -0.8527778 -2.413761  0.70820507 0.6073211\n",
       "f:Logo B-f:Logo A -0.4683333 -1.677465  0.74079878 0.8688982\n",
       "m:Logo B-f:Logo A -0.1916667 -1.603629  1.22029545 0.9987202\n",
       "f:Logo C-f:Logo A -1.7537879 -2.932560 -0.57501539 0.0005264\n",
       "m:Logo C-f:Logo A -1.9083333 -3.320295 -0.49637122 0.0021770\n",
       "f:Logo B-m:Logo A  0.3844444 -1.218545  1.98743433 0.9817530\n",
       "m:Logo B-m:Logo A  0.6611111 -1.099915  2.42213727 0.8832351\n",
       "f:Logo C-m:Logo A -0.9010101 -2.481225  0.67920529 0.5619348\n",
       "m:Logo C-m:Logo A -1.0555556 -2.816582  0.70547060 0.5065658\n",
       "m:Logo B-f:Logo B  0.2766667 -1.181602  1.73493487 0.9937332\n",
       "f:Logo C-f:Logo B -1.2854545 -2.519316 -0.05159324 0.0360762\n",
       "m:Logo C-f:Logo B -1.4400000 -2.898268  0.01826820 0.0549848\n",
       "f:Logo C-m:Logo B -1.5621212 -2.995317 -0.12892540 0.0243601\n",
       "m:Logo C-m:Logo B -1.7166667 -3.347060 -0.08627326 0.0330050\n",
       "m:Logo C-f:Logo C -0.1545455 -1.587741  1.27865036 0.9995814\n"
      ]
     },
     "metadata": {},
     "output_type": "display_data"
    }
   ],
   "source": [
    "mod$aov\n",
    "\n",
    "## Call:\n",
    "##    aov(formula = formula(aov_formula), data = data)\n",
    "## \n",
    "## Terms:\n",
    "##                       sex      logo  sex:logo Residuals\n",
    "## Sum of Squares    1.60020  50.64975   4.50382 175.15977\n",
    "## Deg. of Freedom         1         2         2        93\n",
    "## \n",
    "## Residual standard error: 1.372384\n",
    "## Estimated effects may be unbalanced\n",
    "## 1 observation deleted due to missingness\n",
    "\n",
    "TukeyHSD(mod$aov)\n",
    "\n",
    "##   Tukey multiple comparisons of means\n",
    "##     95% family-wise confidence level\n",
    "## \n",
    "## Fit: aov(formula = formula(aov_formula), data = data)\n",
    "## \n",
    "## $sex\n",
    "##          diff        lwr       upr     p adj\n",
    "## m-f -0.269697 -0.8507293 0.3113353 0.3590456\n",
    "## \n",
    "## $logo\n",
    "##                     diff        lwr        upr     p adj\n",
    "## Logo B-Logo A -0.1044249 -0.9154011  0.7065513 0.9495008\n",
    "## Logo C-Logo A -1.5541241 -2.3528990 -0.7553493 0.0000345\n",
    "## Logo C-Logo B -1.4496992 -2.2547827 -0.6446157 0.0001290\n",
    "## \n",
    "## $`sex:logo`\n",
    "##                         diff       lwr         upr     p adj\n",
    "## m:Logo A-f:Logo A -0.8527778 -2.413761  0.70820507 0.6073211\n",
    "## f:Logo B-f:Logo A -0.4683333 -1.677465  0.74079878 0.8688982\n",
    "## m:Logo B-f:Logo A -0.1916667 -1.603629  1.22029545 0.9987202\n",
    "## f:Logo C-f:Logo A -1.7537879 -2.932560 -0.57501539 0.0005264\n",
    "## m:Logo C-f:Logo A -1.9083333 -3.320295 -0.49637122 0.0021770\n",
    "## f:Logo B-m:Logo A  0.3844444 -1.218545  1.98743433 0.9817530\n",
    "## m:Logo B-m:Logo A  0.6611111 -1.099915  2.42213727 0.8832351\n",
    "## f:Logo C-m:Logo A -0.9010101 -2.481225  0.67920529 0.5619348\n",
    "## m:Logo C-m:Logo A -1.0555556 -2.816582  0.70547060 0.5065658\n",
    "## m:Logo B-f:Logo B  0.2766667 -1.181602  1.73493487 0.9937332\n",
    "## f:Logo C-f:Logo B -1.2854545 -2.519316 -0.05159324 0.0360762\n",
    "## m:Logo C-f:Logo B -1.4400000 -2.898268  0.01826820 0.0549848\n",
    "## f:Logo C-m:Logo B -1.5621212 -2.995317 -0.12892540 0.0243601\n",
    "## m:Logo C-m:Logo B -1.7166667 -3.347060 -0.08627326 0.0330050\n",
    "## m:Logo C-f:Logo C -0.1545455 -1.587741  1.27865036 0.9995814"
   ]
  },
  {
   "cell_type": "markdown",
   "metadata": {},
   "source": [
    "We see here that Tukey's test is returning more output than before, but\n",
    "we will only look at the overall logo analysis, given that nothing else\n",
    "was significant. We can also glance at the other analyses, specifically\n",
    "the confidence intervals (`lwr` and `upr` = the 95% CI). We see on many\n",
    "analyses that the confidence intervals are fairly large, especially\n",
    "toward the bottom third of the results where every individual\n",
    "permutation is compared against every other permutation. This tells us\n",
    "we may simply lack statistical power to find some effects. Power for\n",
    "ANOVA designs goes beyond the scope of this tutorial, but it's safe to\n",
    "say that large samples are desired.\n",
    "\n",
    "What if the interaction *had* been significant? That would simply tell\n",
    "us that at least one comparison (e.g., Logo A vs Logo B) yielded\n",
    "significantly different results across sexes (Male vs. Female). It could\n",
    "have been every logo comparison, two, or just one. To help isolate which\n",
    "parts of the logo pattern differ across males and females, we will use a\n",
    "tool called \"interaction contrasts.\" Simply put, this technique isolates\n",
    "which comparisons differ across sexes, allowing the researcher to\n",
    "isolate where the interaction is happening.\n",
    "\n",
    "To do this, we use the `phia` package (post-hoc interaction analysis).\n",
    "\n",
    "Next, we can use the `testInteractions()` command. We see here that it\n",
    "returns a list of three rows:"
   ]
  },
  {
   "cell_type": "code",
   "execution_count": 15,
   "metadata": {},
   "outputs": [
    {
     "name": "stderr",
     "output_type": "stream",
     "text": [
      "Warning message:\n",
      "\"package 'phia' was built under R version 3.5.1\"Loading required package: car\n",
      "Warning message:\n",
      "\"package 'car' was built under R version 3.5.1\"Loading required package: carData\n",
      "\n",
      "Attaching package: 'car'\n",
      "\n",
      "The following object is masked from 'package:psych':\n",
      "\n",
      "    logit\n",
      "\n"
     ]
    },
    {
     "data": {
      "text/html": [
       "<table>\n",
       "<thead><tr><th></th><th scope=col>Value</th><th scope=col>Df</th><th scope=col>Sum of Sq</th><th scope=col>F</th><th scope=col>Pr(&gt;F)</th></tr></thead>\n",
       "<tbody>\n",
       "\t<tr><th scope=row>f-m : Logo A-Logo B</th><td> 1.1294444 </td><td> 1         </td><td>  4.4585642</td><td>2.3672472  </td><td>0.3819029  </td></tr>\n",
       "\t<tr><th scope=row>f-m : Logo A-Logo C</th><td> 0.6982323 </td><td> 1         </td><td>  1.7314909</td><td>0.9193244  </td><td>0.6802770  </td></tr>\n",
       "\t<tr><th scope=row>f-m : Logo B-Logo C</th><td>-0.4312121 </td><td> 1         </td><td>  0.7093813</td><td>0.3766416  </td><td>0.6802770  </td></tr>\n",
       "\t<tr><th scope=row>Residuals</th><td>        NA </td><td>93         </td><td>175.1597677</td><td>       NA  </td><td>       NA  </td></tr>\n",
       "</tbody>\n",
       "</table>\n"
      ],
      "text/latex": [
       "\\begin{tabular}{r|lllll}\n",
       "  & Value & Df & Sum of Sq & F & Pr(>F)\\\\\n",
       "\\hline\n",
       "\tf-m : Logo A-Logo B &  1.1294444  &  1          &   4.4585642 & 2.3672472   & 0.3819029  \\\\\n",
       "\tf-m : Logo A-Logo C &  0.6982323  &  1          &   1.7314909 & 0.9193244   & 0.6802770  \\\\\n",
       "\tf-m : Logo B-Logo C & -0.4312121  &  1          &   0.7093813 & 0.3766416   & 0.6802770  \\\\\n",
       "\tResiduals &         NA  & 93          & 175.1597677 &        NA   &        NA  \\\\\n",
       "\\end{tabular}\n"
      ],
      "text/markdown": [
       "\n",
       "| <!--/--> | Value | Df | Sum of Sq | F | Pr(>F) | \n",
       "|---|---|---|---|\n",
       "| f-m : Logo A-Logo B |  1.1294444  |  1          |   4.4585642 | 2.3672472   | 0.3819029   | \n",
       "| f-m : Logo A-Logo C |  0.6982323  |  1          |   1.7314909 | 0.9193244   | 0.6802770   | \n",
       "| f-m : Logo B-Logo C | -0.4312121  |  1          |   0.7093813 | 0.3766416   | 0.6802770   | \n",
       "| Residuals |         NA  | 93          | 175.1597677 |        NA   |        NA   | \n",
       "\n",
       "\n"
      ],
      "text/plain": [
       "                    Value      Df Sum of Sq   F         Pr(>F)   \n",
       "f-m : Logo A-Logo B  1.1294444  1   4.4585642 2.3672472 0.3819029\n",
       "f-m : Logo A-Logo C  0.6982323  1   1.7314909 0.9193244 0.6802770\n",
       "f-m : Logo B-Logo C -0.4312121  1   0.7093813 0.3766416 0.6802770\n",
       "Residuals                   NA 93 175.1597677        NA        NA"
      ]
     },
     "metadata": {},
     "output_type": "display_data"
    }
   ],
   "source": [
    "library(phia)\n",
    "\n",
    "## Loading required package: car\n",
    "\n",
    "## \n",
    "## Attaching package: 'car'\n",
    "\n",
    "## The following object is masked from 'package:psych':\n",
    "## \n",
    "##     logit\n",
    "\n",
    "testInteractions(mod$aov)\n",
    "\n",
    "## F Test: \n",
    "## P-value adjustment method: holm\n",
    "##                        Value Df Sum of Sq      F Pr(>F)\n",
    "## f-m : Logo A-Logo B  1.12944  1     4.459 2.3672 0.3819\n",
    "## f-m : Logo A-Logo C  0.69823  1     1.731 0.9193 0.6803\n",
    "## f-m : Logo B-Logo C -0.43121  1     0.709 0.3766 0.6803\n",
    "## Residuals                    93   175.160"
   ]
  },
  {
   "cell_type": "markdown",
   "metadata": {},
   "source": [
    "The first row is listed `f-m : Logo A-Logo B`, which means we ask\n",
    "whether the \"Logo A vs. B\" comparison is *different* for males and\n",
    "females. We see that it is not significant (*p* = .38). None of these is\n",
    "significant, which does not surprise as the interaction was not\n",
    "significant to begin with. Truthfully, this just dissects the\n",
    "interaction. If the interaction was not significant to begin with,\n",
    "dissecting it is generally not seen as statistically responsible."
   ]
  }
 ],
 "metadata": {
  "kernelspec": {
   "display_name": "Python 3",
   "language": "python",
   "name": "python3"
  },
  "language_info": {
   "codemirror_mode": {
    "name": "ipython",
    "version": 3
   },
   "file_extension": ".py",
   "mimetype": "text/x-python",
   "name": "python",
   "nbconvert_exporter": "python",
   "pygments_lexer": "ipython3",
   "version": "3.6.4"
  }
 },
 "nbformat": 4,
 "nbformat_minor": 2
}
